{
  "nbformat": 4,
  "nbformat_minor": 0,
  "metadata": {
    "colab": {
      "name": "linkedin-summary-analysis.ipynb",
      "provenance": []
    },
    "kernelspec": {
      "name": "python3",
      "display_name": "Python 3"
    }
  },
  "cells": [
    {
      "cell_type": "code",
      "metadata": {
        "id": "QD1W3cP_4iv7",
        "colab_type": "code",
        "colab": {}
      },
      "source": [
        "import pandas as pd\n",
        "import numpy as np\n",
        "import re\n",
        "\n",
        "from keras.preprocessing.text import Tokenizer\n",
        "import tensorflow as tf\n",
        "\n",
        "import torch\n",
        "import torch.nn as nn\n",
        "import torch.nn.functional as F\n",
        "\n",
        "from sklearn.model_selection import train_test_split\n",
        "from sklearn.preprocessing import LabelEncoder\n",
        "from sklearn.metrics import confusion_matrix\n",
        "\n",
        "import seaborn as sn\n",
        "import time\n",
        "import matplotlib.pyplot as plt"
      ],
      "execution_count": null,
      "outputs": []
    },
    {
      "cell_type": "code",
      "metadata": {
        "id": "YWFmKhs-4xuV",
        "colab_type": "code",
        "colab": {}
      },
      "source": [
        "df = pd.read_csv(\"/linkedin.csv\")"
      ],
      "execution_count": null,
      "outputs": []
    },
    {
      "cell_type": "code",
      "metadata": {
        "id": "zf4jdLSMV7V7",
        "colab_type": "code",
        "colab": {
          "base_uri": "https://localhost:8080/",
          "height": 591
        },
        "outputId": "a61d11bc-07c7-46f6-a56a-d70c3ffc5519"
      },
      "source": [
        "df.head()"
      ],
      "execution_count": null,
      "outputs": [
        {
          "output_type": "execute_result",
          "data": {
            "text/html": [
              "<div>\n",
              "<style scoped>\n",
              "    .dataframe tbody tr th:only-of-type {\n",
              "        vertical-align: middle;\n",
              "    }\n",
              "\n",
              "    .dataframe tbody tr th {\n",
              "        vertical-align: top;\n",
              "    }\n",
              "\n",
              "    .dataframe thead th {\n",
              "        text-align: right;\n",
              "    }\n",
              "</style>\n",
              "<table border=\"1\" class=\"dataframe\">\n",
              "  <thead>\n",
              "    <tr style=\"text-align: right;\">\n",
              "      <th></th>\n",
              "      <th>index</th>\n",
              "      <th>category</th>\n",
              "      <th>linkedin</th>\n",
              "      <th>profile_picture</th>\n",
              "      <th>description</th>\n",
              "      <th>Experience</th>\n",
              "      <th>Name</th>\n",
              "      <th>position</th>\n",
              "      <th>location</th>\n",
              "      <th>skills</th>\n",
              "      <th>clean_skills</th>\n",
              "    </tr>\n",
              "  </thead>\n",
              "  <tbody>\n",
              "    <tr>\n",
              "      <th>0</th>\n",
              "      <td>1</td>\n",
              "      <td>HR</td>\n",
              "      <td>https://in.linkedin.com/in/sameer-wadhawan-b55...</td>\n",
              "      <td>https://media-exp1.licdn.com/dms/image/C5603AQ...</td>\n",
              "      <td>An experienced HR professional,  HR mentor and...</td>\n",
              "      <td>Senior Vice President &amp; Head of HRCompany Name...</td>\n",
              "      <td>Sameer Wadhawan</td>\n",
              "      <td>Senior Vice President and Head of HR- Samsung ...</td>\n",
              "      <td>Gurgaon, Haryana, India</td>\n",
              "      <td>['\\nPerformance Management\\n', '\\nHuman Resour...</td>\n",
              "      <td>['Performance Management', 'Human Resources', ...</td>\n",
              "    </tr>\n",
              "    <tr>\n",
              "      <th>1</th>\n",
              "      <td>2</td>\n",
              "      <td>HR</td>\n",
              "      <td>https://in.linkedin.com/in/adarsh-krishna-a4ab0a5</td>\n",
              "      <td>https://media-exp1.licdn.com/dms/image/C5103AQ...</td>\n",
              "      <td>Head Talent Acquisition, HR Leader and Strateg...</td>\n",
              "      <td>Head of Talent Acquisition - India &amp; APAC and ...</td>\n",
              "      <td>Adarsh Krishna</td>\n",
              "      <td>Head Talent Acquisition and HR Leader for Heal...</td>\n",
              "      <td>Pune, Maharashtra, India</td>\n",
              "      <td>['\\nTalent Acquisition\\n', '\\nEmployee Engagem...</td>\n",
              "      <td>['Talent Acquisition', 'Employee Engagement', ...</td>\n",
              "    </tr>\n",
              "    <tr>\n",
              "      <th>2</th>\n",
              "      <td>3</td>\n",
              "      <td>HR</td>\n",
              "      <td>https://in.linkedin.com/in/shrivas-mohit</td>\n",
              "      <td>data:image/gif;base64,R0lGODlhAQABAIAAAAAAAP//...</td>\n",
              "      <td>A Talent Acquisition and HR professional with ...</td>\n",
              "      <td>Company NameIBM INDIA Pvt LtdTotal Duration8 y...</td>\n",
              "      <td>Shrivas Mohit</td>\n",
              "      <td>HR@IBM</td>\n",
              "      <td>Bengaluru, Karnataka, India</td>\n",
              "      <td>['\\nHuman Resources\\n', '\\nRecruiting\\n', '\\nT...</td>\n",
              "      <td>['Human Resources', 'Recruiting', 'Team Manage...</td>\n",
              "    </tr>\n",
              "    <tr>\n",
              "      <th>3</th>\n",
              "      <td>4</td>\n",
              "      <td>HR</td>\n",
              "      <td>https://in.linkedin.com/in/hr-hopes-086734b8</td>\n",
              "      <td>data:image/gif;base64,R0lGODlhAQABAIAAAAAAAP//...</td>\n",
              "      <td>NaN</td>\n",
              "      <td>HR/Admin/Personnel/LegalCompany NameHR and HR ...</td>\n",
              "      <td>HR Hopes</td>\n",
              "      <td>HR</td>\n",
              "      <td>Pune Area, India</td>\n",
              "      <td>[]</td>\n",
              "      <td>['']</td>\n",
              "    </tr>\n",
              "    <tr>\n",
              "      <th>4</th>\n",
              "      <td>5</td>\n",
              "      <td>HR</td>\n",
              "      <td>https://in.linkedin.com/in/rakeshkumar01</td>\n",
              "      <td>https://media-exp1.licdn.com/dms/image/C5103AQ...</td>\n",
              "      <td>Over 18 Years of experience in IT /ITES  / BPO...</td>\n",
              "      <td>Company NameEXLTotal Duration6 yrs 4 mosTitleV...</td>\n",
              "      <td>Rakesh Kumar</td>\n",
              "      <td>Vice President - Digital HR Transformation Lea...</td>\n",
              "      <td>Central Delhi, Delhi, India</td>\n",
              "      <td>['\\nTeam Management\\n', '\\nHuman Resources\\n',...</td>\n",
              "      <td>['Team Management', 'Human Resources', 'Employ...</td>\n",
              "    </tr>\n",
              "  </tbody>\n",
              "</table>\n",
              "</div>"
            ],
            "text/plain": [
              "   index  ...                                       clean_skills\n",
              "0      1  ...  ['Performance Management', 'Human Resources', ...\n",
              "1      2  ...  ['Talent Acquisition', 'Employee Engagement', ...\n",
              "2      3  ...  ['Human Resources', 'Recruiting', 'Team Manage...\n",
              "3      4  ...                                               ['']\n",
              "4      5  ...  ['Team Management', 'Human Resources', 'Employ...\n",
              "\n",
              "[5 rows x 11 columns]"
            ]
          },
          "metadata": {
            "tags": []
          },
          "execution_count": 5
        }
      ]
    },
    {
      "cell_type": "code",
      "metadata": {
        "id": "rI6XuB4h47M8",
        "colab_type": "code",
        "colab": {
          "base_uri": "https://localhost:8080/",
          "height": 206
        },
        "outputId": "a4042941-329e-4d78-fa3e-830a9dfbca68"
      },
      "source": [
        "df = df[['description', 'category']]\n",
        "df.head()"
      ],
      "execution_count": null,
      "outputs": [
        {
          "output_type": "execute_result",
          "data": {
            "text/html": [
              "<div>\n",
              "<style scoped>\n",
              "    .dataframe tbody tr th:only-of-type {\n",
              "        vertical-align: middle;\n",
              "    }\n",
              "\n",
              "    .dataframe tbody tr th {\n",
              "        vertical-align: top;\n",
              "    }\n",
              "\n",
              "    .dataframe thead th {\n",
              "        text-align: right;\n",
              "    }\n",
              "</style>\n",
              "<table border=\"1\" class=\"dataframe\">\n",
              "  <thead>\n",
              "    <tr style=\"text-align: right;\">\n",
              "      <th></th>\n",
              "      <th>description</th>\n",
              "      <th>category</th>\n",
              "    </tr>\n",
              "  </thead>\n",
              "  <tbody>\n",
              "    <tr>\n",
              "      <th>0</th>\n",
              "      <td>An experienced HR professional,  HR mentor and...</td>\n",
              "      <td>HR</td>\n",
              "    </tr>\n",
              "    <tr>\n",
              "      <th>1</th>\n",
              "      <td>Head Talent Acquisition, HR Leader and Strateg...</td>\n",
              "      <td>HR</td>\n",
              "    </tr>\n",
              "    <tr>\n",
              "      <th>2</th>\n",
              "      <td>A Talent Acquisition and HR professional with ...</td>\n",
              "      <td>HR</td>\n",
              "    </tr>\n",
              "    <tr>\n",
              "      <th>3</th>\n",
              "      <td>NaN</td>\n",
              "      <td>HR</td>\n",
              "    </tr>\n",
              "    <tr>\n",
              "      <th>4</th>\n",
              "      <td>Over 18 Years of experience in IT /ITES  / BPO...</td>\n",
              "      <td>HR</td>\n",
              "    </tr>\n",
              "  </tbody>\n",
              "</table>\n",
              "</div>"
            ],
            "text/plain": [
              "                                         description category\n",
              "0  An experienced HR professional,  HR mentor and...       HR\n",
              "1  Head Talent Acquisition, HR Leader and Strateg...       HR\n",
              "2  A Talent Acquisition and HR professional with ...       HR\n",
              "3                                                NaN       HR\n",
              "4  Over 18 Years of experience in IT /ITES  / BPO...       HR"
            ]
          },
          "metadata": {
            "tags": []
          },
          "execution_count": 6
        }
      ]
    },
    {
      "cell_type": "code",
      "metadata": {
        "id": "DbHRil0Y6Q1K",
        "colab_type": "code",
        "colab": {}
      },
      "source": [
        "data = df.dropna() #Drop null rows"
      ],
      "execution_count": null,
      "outputs": []
    },
    {
      "cell_type": "code",
      "metadata": {
        "id": "CpnyaoyRud61",
        "colab_type": "code",
        "colab": {
          "base_uri": "https://localhost:8080/",
          "height": 35
        },
        "outputId": "ec90de6c-3dc7-49cc-ea5d-8bf5181d532c"
      },
      "source": [
        "len(data) #Total rows"
      ],
      "execution_count": null,
      "outputs": [
        {
          "output_type": "execute_result",
          "data": {
            "text/plain": [
              "670"
            ]
          },
          "metadata": {
            "tags": []
          },
          "execution_count": 8
        }
      ]
    },
    {
      "cell_type": "code",
      "metadata": {
        "id": "RqYezq0rug6Z",
        "colab_type": "code",
        "colab": {}
      },
      "source": [
        "def preprocess_text(text): #Remove any special chars, numbers and convert to lowercase\n",
        "  text = text.lower()\n",
        "\n",
        "  pattern = r'[^a-zA-z\\s]'\n",
        "  text = re.sub(pattern, '', text)\n",
        "\n",
        "  return text"
      ],
      "execution_count": null,
      "outputs": []
    },
    {
      "cell_type": "code",
      "metadata": {
        "id": "m1S-U6DVILs7",
        "colab_type": "code",
        "colab": {
          "base_uri": "https://localhost:8080/",
          "height": 146
        },
        "outputId": "3c901a9e-b56e-4a77-fa89-7059199b9e2d"
      },
      "source": [
        "data['description_preprocessed'] = data['description'].apply(preprocess_text)"
      ],
      "execution_count": null,
      "outputs": [
        {
          "output_type": "stream",
          "text": [
            "/usr/local/lib/python3.6/dist-packages/ipykernel_launcher.py:1: SettingWithCopyWarning: \n",
            "A value is trying to be set on a copy of a slice from a DataFrame.\n",
            "Try using .loc[row_indexer,col_indexer] = value instead\n",
            "\n",
            "See the caveats in the documentation: https://pandas.pydata.org/pandas-docs/stable/user_guide/indexing.html#returning-a-view-versus-a-copy\n",
            "  \"\"\"Entry point for launching an IPython kernel.\n"
          ],
          "name": "stderr"
        }
      ]
    },
    {
      "cell_type": "code",
      "metadata": {
        "id": "LWEmH9pDJFDp",
        "colab_type": "code",
        "colab": {
          "base_uri": "https://localhost:8080/",
          "height": 206
        },
        "outputId": "0cea0af0-b100-4a87-ce32-6c8a5b7e3985"
      },
      "source": [
        "data.head()"
      ],
      "execution_count": null,
      "outputs": [
        {
          "output_type": "execute_result",
          "data": {
            "text/html": [
              "<div>\n",
              "<style scoped>\n",
              "    .dataframe tbody tr th:only-of-type {\n",
              "        vertical-align: middle;\n",
              "    }\n",
              "\n",
              "    .dataframe tbody tr th {\n",
              "        vertical-align: top;\n",
              "    }\n",
              "\n",
              "    .dataframe thead th {\n",
              "        text-align: right;\n",
              "    }\n",
              "</style>\n",
              "<table border=\"1\" class=\"dataframe\">\n",
              "  <thead>\n",
              "    <tr style=\"text-align: right;\">\n",
              "      <th></th>\n",
              "      <th>description</th>\n",
              "      <th>category</th>\n",
              "      <th>description_preprocessed</th>\n",
              "    </tr>\n",
              "  </thead>\n",
              "  <tbody>\n",
              "    <tr>\n",
              "      <th>0</th>\n",
              "      <td>An experienced HR professional,  HR mentor and...</td>\n",
              "      <td>HR</td>\n",
              "      <td>an experienced hr professional  hr mentor and ...</td>\n",
              "    </tr>\n",
              "    <tr>\n",
              "      <th>1</th>\n",
              "      <td>Head Talent Acquisition, HR Leader and Strateg...</td>\n",
              "      <td>HR</td>\n",
              "      <td>head talent acquisition hr leader and strategi...</td>\n",
              "    </tr>\n",
              "    <tr>\n",
              "      <th>2</th>\n",
              "      <td>A Talent Acquisition and HR professional with ...</td>\n",
              "      <td>HR</td>\n",
              "      <td>a talent acquisition and hr professional with ...</td>\n",
              "    </tr>\n",
              "    <tr>\n",
              "      <th>4</th>\n",
              "      <td>Over 18 Years of experience in IT /ITES  / BPO...</td>\n",
              "      <td>HR</td>\n",
              "      <td>over  years of experience in it ites   bpo wit...</td>\n",
              "    </tr>\n",
              "    <tr>\n",
              "      <th>5</th>\n",
              "      <td>Human Resources Business Partner with a demons...</td>\n",
              "      <td>HR</td>\n",
              "      <td>human resources business partner with a demons...</td>\n",
              "    </tr>\n",
              "  </tbody>\n",
              "</table>\n",
              "</div>"
            ],
            "text/plain": [
              "                                         description  ...                           description_preprocessed\n",
              "0  An experienced HR professional,  HR mentor and...  ...  an experienced hr professional  hr mentor and ...\n",
              "1  Head Talent Acquisition, HR Leader and Strateg...  ...  head talent acquisition hr leader and strategi...\n",
              "2  A Talent Acquisition and HR professional with ...  ...  a talent acquisition and hr professional with ...\n",
              "4  Over 18 Years of experience in IT /ITES  / BPO...  ...  over  years of experience in it ites   bpo wit...\n",
              "5  Human Resources Business Partner with a demons...  ...  human resources business partner with a demons...\n",
              "\n",
              "[5 rows x 3 columns]"
            ]
          },
          "metadata": {
            "tags": []
          },
          "execution_count": 11
        }
      ]
    },
    {
      "cell_type": "code",
      "metadata": {
        "id": "x3rzhQ9zJckW",
        "colab_type": "code",
        "colab": {
          "base_uri": "https://localhost:8080/",
          "height": 146
        },
        "outputId": "7a066e06-c6bb-41fa-c293-3aa2144a5fa0"
      },
      "source": [
        "data['category'] = data['category'].apply(preprocess_text)"
      ],
      "execution_count": null,
      "outputs": [
        {
          "output_type": "stream",
          "text": [
            "/usr/local/lib/python3.6/dist-packages/ipykernel_launcher.py:1: SettingWithCopyWarning: \n",
            "A value is trying to be set on a copy of a slice from a DataFrame.\n",
            "Try using .loc[row_indexer,col_indexer] = value instead\n",
            "\n",
            "See the caveats in the documentation: https://pandas.pydata.org/pandas-docs/stable/user_guide/indexing.html#returning-a-view-versus-a-copy\n",
            "  \"\"\"Entry point for launching an IPython kernel.\n"
          ],
          "name": "stderr"
        }
      ]
    },
    {
      "cell_type": "code",
      "metadata": {
        "id": "pDqvFAuYJ2jJ",
        "colab_type": "code",
        "colab": {
          "base_uri": "https://localhost:8080/",
          "height": 424
        },
        "outputId": "628d38d2-4051-4a79-e426-8c3b1a25b071"
      },
      "source": [
        "data"
      ],
      "execution_count": null,
      "outputs": [
        {
          "output_type": "execute_result",
          "data": {
            "text/html": [
              "<div>\n",
              "<style scoped>\n",
              "    .dataframe tbody tr th:only-of-type {\n",
              "        vertical-align: middle;\n",
              "    }\n",
              "\n",
              "    .dataframe tbody tr th {\n",
              "        vertical-align: top;\n",
              "    }\n",
              "\n",
              "    .dataframe thead th {\n",
              "        text-align: right;\n",
              "    }\n",
              "</style>\n",
              "<table border=\"1\" class=\"dataframe\">\n",
              "  <thead>\n",
              "    <tr style=\"text-align: right;\">\n",
              "      <th></th>\n",
              "      <th>description</th>\n",
              "      <th>category</th>\n",
              "      <th>description_preprocessed</th>\n",
              "    </tr>\n",
              "  </thead>\n",
              "  <tbody>\n",
              "    <tr>\n",
              "      <th>0</th>\n",
              "      <td>An experienced HR professional,  HR mentor and...</td>\n",
              "      <td>hr</td>\n",
              "      <td>an experienced hr professional  hr mentor and ...</td>\n",
              "    </tr>\n",
              "    <tr>\n",
              "      <th>1</th>\n",
              "      <td>Head Talent Acquisition, HR Leader and Strateg...</td>\n",
              "      <td>hr</td>\n",
              "      <td>head talent acquisition hr leader and strategi...</td>\n",
              "    </tr>\n",
              "    <tr>\n",
              "      <th>2</th>\n",
              "      <td>A Talent Acquisition and HR professional with ...</td>\n",
              "      <td>hr</td>\n",
              "      <td>a talent acquisition and hr professional with ...</td>\n",
              "    </tr>\n",
              "    <tr>\n",
              "      <th>4</th>\n",
              "      <td>Over 18 Years of experience in IT /ITES  / BPO...</td>\n",
              "      <td>hr</td>\n",
              "      <td>over  years of experience in it ites   bpo wit...</td>\n",
              "    </tr>\n",
              "    <tr>\n",
              "      <th>5</th>\n",
              "      <td>Human Resources Business Partner with a demons...</td>\n",
              "      <td>hr</td>\n",
              "      <td>human resources business partner with a demons...</td>\n",
              "    </tr>\n",
              "    <tr>\n",
              "      <th>...</th>\n",
              "      <td>...</td>\n",
              "      <td>...</td>\n",
              "      <td>...</td>\n",
              "    </tr>\n",
              "    <tr>\n",
              "      <th>1241</th>\n",
              "      <td>Experienced Aircraft Maintenance Engineer with...</td>\n",
              "      <td>aviation</td>\n",
              "      <td>experienced aircraft maintenance engineer with...</td>\n",
              "    </tr>\n",
              "    <tr>\n",
              "      <th>1242</th>\n",
              "      <td>Aero-Business Professional |Independent Consul...</td>\n",
              "      <td>aviation</td>\n",
              "      <td>aerobusiness professional independent consulta...</td>\n",
              "    </tr>\n",
              "    <tr>\n",
              "      <th>1244</th>\n",
              "      <td>I am Ritu Roy,born in India. i am an energetic...</td>\n",
              "      <td>aviation</td>\n",
              "      <td>i am ritu royborn in india i am an energeticam...</td>\n",
              "    </tr>\n",
              "    <tr>\n",
              "      <th>1248</th>\n",
              "      <td>An MBA Graduate specialized in Aviation Manage...</td>\n",
              "      <td>aviation</td>\n",
              "      <td>an mba graduate specialized in aviation manage...</td>\n",
              "    </tr>\n",
              "    <tr>\n",
              "      <th>1250</th>\n",
              "      <td>Currently I'm pursuing MBA in Aviation Managem...</td>\n",
              "      <td>aviation</td>\n",
              "      <td>currently im pursuing mba in aviation manageme...</td>\n",
              "    </tr>\n",
              "  </tbody>\n",
              "</table>\n",
              "<p>670 rows × 3 columns</p>\n",
              "</div>"
            ],
            "text/plain": [
              "                                            description  ...                           description_preprocessed\n",
              "0     An experienced HR professional,  HR mentor and...  ...  an experienced hr professional  hr mentor and ...\n",
              "1     Head Talent Acquisition, HR Leader and Strateg...  ...  head talent acquisition hr leader and strategi...\n",
              "2     A Talent Acquisition and HR professional with ...  ...  a talent acquisition and hr professional with ...\n",
              "4     Over 18 Years of experience in IT /ITES  / BPO...  ...  over  years of experience in it ites   bpo wit...\n",
              "5     Human Resources Business Partner with a demons...  ...  human resources business partner with a demons...\n",
              "...                                                 ...  ...                                                ...\n",
              "1241  Experienced Aircraft Maintenance Engineer with...  ...  experienced aircraft maintenance engineer with...\n",
              "1242  Aero-Business Professional |Independent Consul...  ...  aerobusiness professional independent consulta...\n",
              "1244  I am Ritu Roy,born in India. i am an energetic...  ...  i am ritu royborn in india i am an energeticam...\n",
              "1248  An MBA Graduate specialized in Aviation Manage...  ...  an mba graduate specialized in aviation manage...\n",
              "1250  Currently I'm pursuing MBA in Aviation Managem...  ...  currently im pursuing mba in aviation manageme...\n",
              "\n",
              "[670 rows x 3 columns]"
            ]
          },
          "metadata": {
            "tags": []
          },
          "execution_count": 13
        }
      ]
    },
    {
      "cell_type": "code",
      "metadata": {
        "id": "XrCGTG48XGtE",
        "colab_type": "code",
        "colab": {}
      },
      "source": [
        "embed_size = 300 # how big is each word vector\n",
        "max_features = 10000 # how many unique words to use (i.e num rows in embedding vector). 1000\n",
        "maxlen = 400 # max number of words in a description to use\n",
        "batch_size = 425"
      ],
      "execution_count": null,
      "outputs": []
    },
    {
      "cell_type": "code",
      "metadata": {
        "id": "pgdNIHjqJICZ",
        "colab_type": "code",
        "colab": {}
      },
      "source": [
        "X = list(data['description_preprocessed'].values)\n",
        "y = list(data['category'].values)"
      ],
      "execution_count": null,
      "outputs": []
    },
    {
      "cell_type": "code",
      "metadata": {
        "id": "Q2j2kbkTKOVT",
        "colab_type": "code",
        "colab": {}
      },
      "source": [
        "X_train, X_test, y_train, y_test = train_test_split(X, y, stratify=y, test_size=0.25)"
      ],
      "execution_count": null,
      "outputs": []
    },
    {
      "cell_type": "code",
      "metadata": {
        "id": "9jKLRaa7GWA0",
        "colab_type": "code",
        "colab": {}
      },
      "source": [
        "# Getting training and test data as tokenizer sequence \n",
        "tokenizer = Tokenizer(num_words=max_features)\n",
        "tokenizer.fit_on_texts(list(X_train)+list(X_test))\n",
        "train_X = tokenizer.texts_to_sequences(X_train)\n",
        "test_X = tokenizer.texts_to_sequences(X_test)"
      ],
      "execution_count": null,
      "outputs": []
    },
    {
      "cell_type": "code",
      "metadata": {
        "id": "BDaVOfdrL3eW",
        "colab_type": "code",
        "colab": {}
      },
      "source": [
        "train_X = tf.keras.preprocessing.sequence.pad_sequences(train_X, maxlen=maxlen)\n",
        "test_X = tf.keras.preprocessing.sequence.pad_sequences(test_X, maxlen=maxlen)"
      ],
      "execution_count": null,
      "outputs": []
    },
    {
      "cell_type": "code",
      "metadata": {
        "id": "PF5rRbeGSen0",
        "colab_type": "code",
        "colab": {}
      },
      "source": [
        "le = LabelEncoder()\n",
        "train_y = le.fit_transform(y_train)\n",
        "test_y = le.transform(y_test)"
      ],
      "execution_count": null,
      "outputs": []
    },
    {
      "cell_type": "code",
      "metadata": {
        "id": "E5uYhV_MTTze",
        "colab_type": "code",
        "colab": {}
      },
      "source": [
        "# Creating embedding matrix from pretrained glove vectors, matrix will be size (10000, 300)\n",
        "def load_glove(word_index):\n",
        "  EMBEDDING_FILE = 'glove.840B.300d.txt'\n",
        "  def get_coefs(word,*arr): return word, np.asarray(arr, dtype='float32')[:300]\n",
        "  embeddings_index = dict(get_coefs(*o.split(\" \")) for o in open(EMBEDDING_FILE))\n",
        "\n",
        "  all_embs = np.stack(embeddings_index.values())\n",
        "  emb_mean,emb_std = -0.005838499,0.48782197\n",
        "  embed_size = all_embs.shape[1]\n",
        "\n",
        "  nb_words = min(max_features, len(word_index)+1)\n",
        "  embedding_matrix = np.random.normal(emb_mean, emb_std, (nb_words, embed_size))\n",
        "  for word, i in word_index.items():\n",
        "      if i >= max_features: continue\n",
        "      embedding_vector = embeddings_index.get(word)\n",
        "      if embedding_vector is not None:\n",
        "          embedding_matrix[i] = embedding_vector\n",
        "      else:\n",
        "          embedding_vector = embeddings_index.get(word.capitalize())\n",
        "          if embedding_vector is not None:\n",
        "              embedding_matrix[i] = embedding_vector\n",
        "  return embedding_matrix"
      ],
      "execution_count": null,
      "outputs": []
    },
    {
      "cell_type": "code",
      "metadata": {
        "id": "eM3uIOGVNu03",
        "colab_type": "code",
        "colab": {
          "base_uri": "https://localhost:8080/",
          "height": 73
        },
        "outputId": "915d4a75-479f-420b-ea3d-ba8d81b6bb0e"
      },
      "source": [
        "embedding_matrix = load_glove(tokenizer.word_index)"
      ],
      "execution_count": null,
      "outputs": [
        {
          "output_type": "stream",
          "text": [
            "/usr/local/lib/python3.6/dist-packages/IPython/core/interactiveshell.py:2882: FutureWarning: arrays to stack must be passed as a \"sequence\" type such as list or tuple. Support for non-sequence iterables such as generators is deprecated as of NumPy 1.16 and will raise an error in the future.\n",
            "  exec(code_obj, self.user_global_ns, self.user_ns)\n"
          ],
          "name": "stderr"
        }
      ]
    },
    {
      "cell_type": "code",
      "metadata": {
        "id": "T7-T7_Fqi0WK",
        "colab_type": "code",
        "colab": {}
      },
      "source": [
        "class CNN_Text(nn.Module):\n",
        "  def __init__(self):\n",
        "    super(CNN_Text, self).__init__()\n",
        "    filter_sizes = [1,2,3,5]\n",
        "    num_filters = 36\n",
        "    n_classes = len(le.classes_)\n",
        "    self.embedding = nn.Embedding(max_features, embed_size)\n",
        "    self.embedding.weight = nn.Parameter(torch.tensor(embedding_matrix, dtype=torch.float32))\n",
        "    self.embedding.weight.requires_grad = False\n",
        "    self.convs1 = nn.ModuleList([nn.Conv2d(1, num_filters, (K, embed_size)) for K in filter_sizes])\n",
        "    self.dropout = nn.Dropout(0.1)\n",
        "    self.fc1 = nn.Linear(len(filter_sizes)*num_filters, n_classes)\n",
        "  def forward(self, x):\n",
        "    x = self.embedding(x)\n",
        "    x = x.unsqueeze(1)\n",
        "    x = [F.relu(conv(x)).squeeze(3) for conv in self.convs1]\n",
        "    x = [F.max_pool1d(i, i.size(2)).squeeze(2) for i in x]\n",
        "    x = torch.cat(x, 1)\n",
        "    x = self.dropout(x)\n",
        "    logit = self.fc1(x)\n",
        "    return logit"
      ],
      "execution_count": null,
      "outputs": []
    },
    {
      "cell_type": "code",
      "metadata": {
        "id": "vbmnXmo4fWdd",
        "colab_type": "code",
        "colab": {
          "base_uri": "https://localhost:8080/",
          "height": 1000
        },
        "outputId": "dbf7c9f3-6b63-4abe-9a19-2f0d78a79850"
      },
      "source": [
        "n_epochs = 70\n",
        "model = CNN_Text()\n",
        "loss_fn = nn.CrossEntropyLoss(reduction='sum')\n",
        "optimizer = torch.optim.Adam(filter(lambda p: p.requires_grad, model.parameters()), lr=0.001)\n",
        "model\n",
        "\n",
        "# Load train and test in CUDA Memory\n",
        "x_train = torch.tensor(train_X, dtype=torch.long)\n",
        "y_train = torch.tensor(train_y, dtype=torch.long)\n",
        "x_cv = torch.tensor(test_X, dtype=torch.long)\n",
        "y_cv = torch.tensor(test_y, dtype=torch.long)\n",
        "\n",
        "# Create Torch datasets\n",
        "train = torch.utils.data.TensorDataset(x_train, y_train)\n",
        "valid = torch.utils.data.TensorDataset(x_cv, y_cv)\n",
        "\n",
        "# Create Data Loaders\n",
        "train_loader = torch.utils.data.DataLoader(train, batch_size=batch_size, shuffle=True)\n",
        "valid_loader = torch.utils.data.DataLoader(valid, batch_size=batch_size, shuffle=False)\n",
        "\n",
        "train_loss = []\n",
        "valid_loss = []\n",
        "\n",
        "for epoch in range(n_epochs):\n",
        "    start_time = time.time()\n",
        "    # Set model to train configuration\n",
        "    model.train()\n",
        "    avg_loss = 0.  \n",
        "    for i, (x_batch, y_batch) in enumerate(train_loader):\n",
        "        # Predict/Forward Pass\n",
        "        y_pred = model(x_batch)\n",
        "        # Compute loss\n",
        "        loss = loss_fn(y_pred, y_batch)\n",
        "        optimizer.zero_grad()\n",
        "        loss.backward()\n",
        "        optimizer.step()\n",
        "        avg_loss += loss.item() / len(train_loader)\n",
        "    \n",
        "    # Set model to validation configuration -Doesn't get trained here\n",
        "    model.eval()        \n",
        "    avg_val_loss = 0.\n",
        "    val_preds = np.zeros((len(x_cv),len(le.classes_)))\n",
        "    \n",
        "    for i, (x_batch, y_batch) in enumerate(valid_loader):\n",
        "        y_pred = model(x_batch).detach()\n",
        "        avg_val_loss += loss_fn(y_pred, y_batch).item() / len(valid_loader)\n",
        "        # keep/store predictions\n",
        "        val_preds[i * batch_size:(i+1) * batch_size] =F.softmax(y_pred).cpu().numpy()\n",
        "    \n",
        "    # Check Accuracy\n",
        "    val_accuracy = sum(val_preds.argmax(axis=1)==test_y)/len(test_y)\n",
        "    train_loss.append(avg_loss)\n",
        "    valid_loss.append(avg_val_loss)\n",
        "    elapsed_time = time.time() - start_time \n",
        "    print('Epoch {}/{} \\t loss={:.4f} \\t val_loss={:.4f}  \\t val_acc={:.4f}  \\t time={:.2f}s'.format(\n",
        "                epoch + 1, n_epochs, avg_loss, avg_val_loss, val_accuracy, elapsed_time))"
      ],
      "execution_count": null,
      "outputs": [
        {
          "output_type": "stream",
          "text": [
            "/usr/local/lib/python3.6/dist-packages/ipykernel_launcher.py:48: UserWarning: Implicit dimension choice for softmax has been deprecated. Change the call to include dim=X as an argument.\n"
          ],
          "name": "stderr"
        },
        {
          "output_type": "stream",
          "text": [
            "Epoch 1/70 \t loss=819.3253 \t val_loss=533.8995  \t val_acc=0.0952  \t time=13.27s\n",
            "Epoch 2/70 \t loss=786.4798 \t val_loss=525.6682  \t val_acc=0.1071  \t time=13.32s\n",
            "Epoch 3/70 \t loss=762.2242 \t val_loss=519.8942  \t val_acc=0.1012  \t time=13.28s\n",
            "Epoch 4/70 \t loss=746.9863 \t val_loss=514.6225  \t val_acc=0.1310  \t time=13.29s\n",
            "Epoch 5/70 \t loss=728.1091 \t val_loss=509.2196  \t val_acc=0.1607  \t time=13.28s\n",
            "Epoch 6/70 \t loss=709.9802 \t val_loss=503.3742  \t val_acc=0.2262  \t time=13.28s\n",
            "Epoch 7/70 \t loss=694.9130 \t val_loss=497.2288  \t val_acc=0.2738  \t time=13.23s\n",
            "Epoch 8/70 \t loss=676.6133 \t val_loss=490.5173  \t val_acc=0.3036  \t time=13.27s\n",
            "Epoch 9/70 \t loss=656.9485 \t val_loss=483.2437  \t val_acc=0.3333  \t time=13.33s\n",
            "Epoch 10/70 \t loss=637.9431 \t val_loss=475.6529  \t val_acc=0.3631  \t time=13.44s\n",
            "Epoch 11/70 \t loss=618.5481 \t val_loss=467.6396  \t val_acc=0.3810  \t time=13.46s\n",
            "Epoch 12/70 \t loss=594.2958 \t val_loss=459.2526  \t val_acc=0.3869  \t time=13.43s\n",
            "Epoch 13/70 \t loss=576.2272 \t val_loss=450.5056  \t val_acc=0.4167  \t time=13.47s\n",
            "Epoch 14/70 \t loss=551.4164 \t val_loss=441.5544  \t val_acc=0.4464  \t time=13.22s\n",
            "Epoch 15/70 \t loss=529.2055 \t val_loss=432.4003  \t val_acc=0.4762  \t time=13.21s\n",
            "Epoch 16/70 \t loss=502.6462 \t val_loss=423.2042  \t val_acc=0.4762  \t time=13.17s\n",
            "Epoch 17/70 \t loss=481.6835 \t val_loss=413.8468  \t val_acc=0.4762  \t time=13.24s\n",
            "Epoch 18/70 \t loss=457.8794 \t val_loss=404.3886  \t val_acc=0.5000  \t time=13.22s\n",
            "Epoch 19/70 \t loss=434.1563 \t val_loss=394.9461  \t val_acc=0.5119  \t time=14.21s\n",
            "Epoch 20/70 \t loss=411.3866 \t val_loss=385.6172  \t val_acc=0.5119  \t time=13.22s\n",
            "Epoch 21/70 \t loss=387.3597 \t val_loss=376.3843  \t val_acc=0.5119  \t time=13.24s\n",
            "Epoch 22/70 \t loss=361.6436 \t val_loss=367.2662  \t val_acc=0.5417  \t time=13.21s\n",
            "Epoch 23/70 \t loss=340.7661 \t val_loss=358.3736  \t val_acc=0.5476  \t time=13.18s\n",
            "Epoch 24/70 \t loss=319.7725 \t val_loss=349.6121  \t val_acc=0.5476  \t time=13.19s\n",
            "Epoch 25/70 \t loss=293.0242 \t val_loss=341.1412  \t val_acc=0.5714  \t time=13.20s\n",
            "Epoch 26/70 \t loss=272.7062 \t val_loss=333.2144  \t val_acc=0.6190  \t time=13.27s\n",
            "Epoch 27/70 \t loss=254.6522 \t val_loss=325.6167  \t val_acc=0.6310  \t time=13.22s\n",
            "Epoch 28/70 \t loss=237.0976 \t val_loss=318.4160  \t val_acc=0.6250  \t time=13.22s\n",
            "Epoch 29/70 \t loss=219.5465 \t val_loss=311.7026  \t val_acc=0.6190  \t time=13.18s\n",
            "Epoch 30/70 \t loss=201.6013 \t val_loss=305.4346  \t val_acc=0.6250  \t time=13.24s\n",
            "Epoch 31/70 \t loss=187.4304 \t val_loss=299.2861  \t val_acc=0.6250  \t time=13.24s\n",
            "Epoch 32/70 \t loss=170.1394 \t val_loss=293.5262  \t val_acc=0.6190  \t time=13.23s\n",
            "Epoch 33/70 \t loss=154.6427 \t val_loss=288.3388  \t val_acc=0.6190  \t time=13.21s\n",
            "Epoch 34/70 \t loss=147.6945 \t val_loss=283.3020  \t val_acc=0.6250  \t time=13.22s\n",
            "Epoch 35/70 \t loss=129.6481 \t val_loss=278.5880  \t val_acc=0.6310  \t time=13.19s\n",
            "Epoch 36/70 \t loss=123.0820 \t val_loss=274.3693  \t val_acc=0.6310  \t time=13.32s\n",
            "Epoch 37/70 \t loss=114.4595 \t val_loss=270.4841  \t val_acc=0.6429  \t time=13.22s\n",
            "Epoch 38/70 \t loss=100.1167 \t val_loss=266.8083  \t val_acc=0.6369  \t time=13.21s\n",
            "Epoch 39/70 \t loss=98.9181 \t val_loss=263.4510  \t val_acc=0.6369  \t time=13.21s\n",
            "Epoch 40/70 \t loss=89.6239 \t val_loss=260.2661  \t val_acc=0.6369  \t time=13.25s\n",
            "Epoch 41/70 \t loss=83.9064 \t val_loss=257.3654  \t val_acc=0.6369  \t time=13.30s\n",
            "Epoch 42/70 \t loss=76.0028 \t val_loss=254.8990  \t val_acc=0.6310  \t time=13.27s\n",
            "Epoch 43/70 \t loss=69.3169 \t val_loss=252.6187  \t val_acc=0.6369  \t time=13.25s\n",
            "Epoch 44/70 \t loss=63.6514 \t val_loss=250.3412  \t val_acc=0.6488  \t time=13.27s\n",
            "Epoch 45/70 \t loss=60.2572 \t val_loss=248.1865  \t val_acc=0.6548  \t time=13.31s\n",
            "Epoch 46/70 \t loss=54.4992 \t val_loss=246.1483  \t val_acc=0.6548  \t time=13.21s\n",
            "Epoch 47/70 \t loss=51.0591 \t val_loss=244.4643  \t val_acc=0.6667  \t time=13.22s\n",
            "Epoch 48/70 \t loss=47.5870 \t val_loss=242.9904  \t val_acc=0.6667  \t time=13.19s\n",
            "Epoch 49/70 \t loss=43.5165 \t val_loss=241.6451  \t val_acc=0.6548  \t time=13.26s\n",
            "Epoch 50/70 \t loss=41.9118 \t val_loss=240.3246  \t val_acc=0.6548  \t time=13.20s\n",
            "Epoch 51/70 \t loss=38.8894 \t val_loss=239.0642  \t val_acc=0.6667  \t time=13.21s\n",
            "Epoch 52/70 \t loss=36.7022 \t val_loss=237.9311  \t val_acc=0.6667  \t time=13.21s\n",
            "Epoch 53/70 \t loss=33.9808 \t val_loss=236.8502  \t val_acc=0.6548  \t time=13.25s\n",
            "Epoch 54/70 \t loss=33.4529 \t val_loss=235.8312  \t val_acc=0.6548  \t time=13.27s\n",
            "Epoch 55/70 \t loss=30.2872 \t val_loss=234.8661  \t val_acc=0.6488  \t time=13.23s\n",
            "Epoch 56/70 \t loss=29.7835 \t val_loss=233.9694  \t val_acc=0.6488  \t time=13.23s\n",
            "Epoch 57/70 \t loss=26.7227 \t val_loss=233.1467  \t val_acc=0.6488  \t time=13.22s\n",
            "Epoch 58/70 \t loss=26.0625 \t val_loss=232.4399  \t val_acc=0.6369  \t time=13.24s\n",
            "Epoch 59/70 \t loss=26.1161 \t val_loss=231.7226  \t val_acc=0.6488  \t time=13.32s\n",
            "Epoch 60/70 \t loss=23.6462 \t val_loss=230.9067  \t val_acc=0.6488  \t time=13.31s\n",
            "Epoch 61/70 \t loss=23.0735 \t val_loss=230.2315  \t val_acc=0.6488  \t time=13.24s\n",
            "Epoch 62/70 \t loss=21.1728 \t val_loss=229.5891  \t val_acc=0.6488  \t time=13.24s\n",
            "Epoch 63/70 \t loss=22.4057 \t val_loss=228.8825  \t val_acc=0.6607  \t time=13.23s\n",
            "Epoch 64/70 \t loss=18.9358 \t val_loss=228.1584  \t val_acc=0.6607  \t time=13.22s\n",
            "Epoch 65/70 \t loss=20.3088 \t val_loss=227.4836  \t val_acc=0.6667  \t time=13.42s\n",
            "Epoch 66/70 \t loss=18.2436 \t val_loss=226.9330  \t val_acc=0.6667  \t time=13.32s\n",
            "Epoch 67/70 \t loss=18.4112 \t val_loss=226.4458  \t val_acc=0.6607  \t time=13.25s\n",
            "Epoch 68/70 \t loss=17.3101 \t val_loss=226.0484  \t val_acc=0.6548  \t time=13.25s\n",
            "Epoch 69/70 \t loss=15.8994 \t val_loss=225.7038  \t val_acc=0.6548  \t time=14.01s\n",
            "Epoch 70/70 \t loss=15.7050 \t val_loss=225.4033  \t val_acc=0.6488  \t time=13.24s\n"
          ],
          "name": "stdout"
        }
      ]
    },
    {
      "cell_type": "code",
      "metadata": {
        "id": "3ujva9RViLOc",
        "colab_type": "code",
        "colab": {
          "base_uri": "https://localhost:8080/",
          "height": 298
        },
        "outputId": "d0697dd1-1b61-40f0-87d8-a820a21297bb"
      },
      "source": [
        "plt.title(\"Train/Validation Loss\")\n",
        "plt.plot(list(np.arange(70) + 1) , train_loss, label='train')\n",
        "plt.plot(list(np.arange(70) + 1), valid_loss, label='validation')\n",
        "plt.xlabel('num_epochs', fontsize=12)\n",
        "plt.ylabel('loss', fontsize=12)\n",
        "plt.legend(loc='best') \n",
        "plt.show()"
      ],
      "execution_count": null,
      "outputs": [
        {
          "output_type": "display_data",
          "data": {
            "image/png": "[encoded data removed]",
            "text/plain": [
              "<Figure size 432x288 with 1 Axes>"
            ]
          },
          "metadata": {
            "tags": [],
            "needs_background": "light"
          }
        }
      ]
    },
    {
      "cell_type": "code",
      "metadata": {
        "id": "NlDLZ85Y044U",
        "colab_type": "code",
        "colab": {
          "base_uri": "https://localhost:8080/",
          "height": 646
        },
        "outputId": "fd3bc9f7-8a89-4567-da60-8780324f8bf3"
      },
      "source": [
        "y_true = [le.classes_[x] for x in test_y]\n",
        "y_pred = [le.classes_[x] for x in val_preds.argmax(axis=1)]\n",
        "data = confusion_matrix(y_true, y_pred)\n",
        "df_cm = pd.DataFrame(data, columns=np.unique(y_true), index = np.unique(y_true))\n",
        "df_cm.index.name = 'Actual'\n",
        "df_cm.columns.name = 'Predicted'\n",
        "plt.figure(figsize = (10,7))\n",
        "sn.set(font_scale=1.4)#for label size\n",
        "sn.heatmap(df_cm, cmap=\"Blues\", annot=True,annot_kws={\"size\": 16})"
      ],
      "execution_count": null,
      "outputs": [
        {
          "output_type": "execute_result",
          "data": {
            "text/plain": [
              "<matplotlib.axes._subplots.AxesSubplot at 0x7fea9b60cb38>"
            ]
          },
          "metadata": {
            "tags": []
          },
          "execution_count": 55
        },
        {
          "output_type": "display_data",
          "data": {
            "image/png": "[encoded data removed]",
            "text/plain": [
              "<Figure size 720x504 with 2 Axes>"
            ]
          },
          "metadata": {
            "tags": []
          }
        }
      ]
    },
    {
      "cell_type": "markdown",
      "metadata": {
        "id": "YraHRuJ_bJ8k",
        "colab_type": "text"
      },
      "source": [
        "Source: [Using Deep Learning for End to End Multiclass Text Classification\n",
        "Article by Rahul Agarwal | April 02, 2020](https://lionbridge.ai/articles/using-deep-learning-for-end-to-end-multiclass-text-classification/)\n",
        "\n",
        "[Kaggle Notebook by Rahul Agarwal](https://www.kaggle.com/mlwhiz/multiclass-text-classification-pytorch?scriptVersionId=30273958)\n",
        "\n",
        "Deep Learning Model: [Convolutional Neural Networks for Sentence Classification by Yoon Kim.](https://www.aclweb.org/anthology/D14-1181/)\n",
        "\n",
        "\n",
        "Modified as per requirement"
      ]
    },
    {
      "cell_type": "code",
      "metadata": {
        "id": "Qdd7gSPLbNiZ",
        "colab_type": "code",
        "colab": {}
      },
      "source": [
        ""
      ],
      "execution_count": null,
      "outputs": []
    }
  ]
}